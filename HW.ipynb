{
  "nbformat": 4,
  "nbformat_minor": 0,
  "metadata": {
    "colab": {
      "provenance": [],
      "gpuType": "T4"
    },
    "kernelspec": {
      "name": "python3",
      "display_name": "Python 3"
    },
    "language_info": {
      "name": "python"
    },
    "accelerator": "GPU"
  },
  "cells": [
    {
      "cell_type": "code",
      "execution_count": 4,
      "metadata": {
        "id": "xvTe2tUG5tBv"
      },
      "outputs": [],
      "source": [
        "import pandas as pd\n",
        "import statsmodels.api as sm\n",
        "import numpy as np\n"
      ]
    },
    {
      "cell_type": "code",
      "source": [
        "df2 = pd.DataFrame(np.random.randn(100, 4), columns=list(\"ABCD\"))\n"
      ],
      "metadata": {
        "id": "8EdvIcVy6uW4"
      },
      "execution_count": 2,
      "outputs": []
    },
    {
      "cell_type": "code",
      "source": [
        "X = df2.iloc[:, 1:3]\n",
        "y = df2['A']\n",
        "# Add a constant to the model (for the intercept term)\n",
        "X = sm.add_constant(X)\n",
        "X\n",
        "# Fit the regression model\n",
        "model = sm.OLS(y, X).fit()\n",
        "# Display the regression results\n",
        "print(model.summary())"
      ],
      "metadata": {
        "colab": {
          "base_uri": "https://localhost:8080/"
        },
        "id": "FoK56u1B6xV_",
        "outputId": "befd743f-6c46-4195-da9f-307036a957e6"
      },
      "execution_count": 9,
      "outputs": [
        {
          "output_type": "stream",
          "name": "stdout",
          "text": [
            "                            OLS Regression Results                            \n",
            "==============================================================================\n",
            "Dep. Variable:                      A   R-squared:                       0.024\n",
            "Model:                            OLS   Adj. R-squared:                  0.004\n",
            "Method:                 Least Squares   F-statistic:                     1.180\n",
            "Date:                Thu, 07 Nov 2024   Prob (F-statistic):              0.312\n",
            "Time:                        09:57:59   Log-Likelihood:                -147.01\n",
            "No. Observations:                 100   AIC:                             300.0\n",
            "Df Residuals:                      97   BIC:                             307.8\n",
            "Df Model:                           2                                         \n",
            "Covariance Type:            nonrobust                                         \n",
            "==============================================================================\n",
            "                 coef    std err          t      P>|t|      [0.025      0.975]\n",
            "------------------------------------------------------------------------------\n",
            "const          0.1850      0.109      1.701      0.092      -0.031       0.401\n",
            "B              0.0840      0.101      0.828      0.410      -0.117       0.285\n",
            "C             -0.1348      0.108     -1.249      0.215      -0.349       0.079\n",
            "==============================================================================\n",
            "Omnibus:                        1.044   Durbin-Watson:                   2.117\n",
            "Prob(Omnibus):                  0.593   Jarque-Bera (JB):                1.067\n",
            "Skew:                           0.132   Prob(JB):                        0.587\n",
            "Kurtosis:                       2.568   Cond. No.                         1.23\n",
            "==============================================================================\n",
            "\n",
            "Notes:\n",
            "[1] Standard Errors assume that the covariance matrix of the errors is correctly specified.\n"
          ]
        }
      ]
    }
  ]
}