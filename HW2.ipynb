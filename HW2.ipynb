{
  "nbformat": 4,
  "nbformat_minor": 0,
  "metadata": {
    "colab": {
      "provenance": [],
      "gpuType": "T4"
    },
    "kernelspec": {
      "name": "python3",
      "display_name": "Python 3"
    },
    "language_info": {
      "name": "python"
    },
    "accelerator": "GPU"
  },
  "cells": [
    {
      "cell_type": "code",
      "source": [
        "def hello(x,y): #定義函數(參數可以靈活變化)\n",
        "\n",
        "  z=x+y\n",
        "  print(z)\n",
        "\n",
        "hello(5,48)    #輸入整數參數\n",
        "hello('Iu','blueming')#輸入字串參數\n",
        "\n"
      ],
      "metadata": {
        "colab": {
          "base_uri": "https://localhost:8080/"
        },
        "id": "NfqK4OXKUvMm",
        "outputId": "fbda9797-feda-4a12-fbe7-d36a0d7204b7"
      },
      "execution_count": null,
      "outputs": [
        {
          "output_type": "stream",
          "name": "stdout",
          "text": [
            "53\n",
            "Iublueming\n"
          ]
        }
      ]
    },
    {
      "cell_type": "code",
      "source": [
        "def a(x):\n",
        "  result=0\n",
        "  while result<10:\n",
        "    result=result+x\n",
        "    if result==5:\n",
        "      return result\n",
        "  return result\n",
        "b=a(5)\n",
        "c=a(2)\n",
        "print(b,end=' ')\n",
        "print(c)\n",
        "# b將參數x=5進入while迴圈，經過if判斷是對的，因此直接輸出\n",
        "# c將參數x=2進入while迴圈，一直在while迴圈循環，直到result>10，跳出迴圈\n"
      ],
      "metadata": {
        "colab": {
          "base_uri": "https://localhost:8080/"
        },
        "id": "Iu-8-d9xYFdG",
        "outputId": "7d740bbe-3f54-4d4f-bf6a-ea6cd1e54671"
      },
      "execution_count": 9,
      "outputs": [
        {
          "output_type": "stream",
          "name": "stdout",
          "text": [
            "5 10\n"
          ]
        }
      ]
    },
    {
      "cell_type": "code",
      "source": [
        "def tf(value):\n",
        "  return 2*value-1 #需要使用return將計算值返回，否則函式回傳none\n",
        "\n",
        "\n",
        "a=[4,5,6]\n",
        "c=[tf(value) for value in a]#for迴圈配合函式\n",
        "print(c)\n",
        "with open('test.txt','w')as f1: #將計算結果寫入test.txt文件\n",
        "  f1.write(','.join(map(str,(c))))#將數值轉成字串"
      ],
      "metadata": {
        "colab": {
          "base_uri": "https://localhost:8080/"
        },
        "id": "wStzdR_8aZiv",
        "outputId": "2566e547-1570-48b8-e478-98abdea4ac61"
      },
      "execution_count": 20,
      "outputs": [
        {
          "output_type": "stream",
          "name": "stdout",
          "text": [
            "[7, 9, 11]\n"
          ]
        }
      ]
    },
    {
      "cell_type": "code",
      "source": [
        "import datetime as dd# 將 datetime 模組匯入並縮寫為 dd\n",
        "print(dd.datetime.now())# 取得當前的日期和時間\n",
        "print(dd.date.today()) # 取得當前的日期"
      ],
      "metadata": {
        "colab": {
          "base_uri": "https://localhost:8080/"
        },
        "id": "F6-6YA40jB1w",
        "outputId": "973b332f-5323-4471-83fd-821fa4494cdc"
      },
      "execution_count": 21,
      "outputs": [
        {
          "output_type": "stream",
          "name": "stdout",
          "text": [
            "2024-09-26 12:47:33.289103\n",
            "2024-09-26\n"
          ]
        }
      ]
    },
    {
      "cell_type": "code",
      "source": [
        "import numpy as np# 匯入 numpy 並縮寫為 np\n",
        "import pandas as pd # 匯入 pandas 並縮寫為 pd\n",
        "dates=pd.date_range('20220101',periods=6)# 使用 pandas 的 date_range 函數創建一個日期範圍\n",
        "print(dates)# 輸出從 2022 年 1 月 1 日開始的 6 天日期範圍\n",
        "\n",
        "df=pd.DataFrame(np.random.randn(6,4),index=dates,columns=list('ABCD'))# 創建一個 DataFrame，包含 6 行 4 列的隨機數據，索引為上述日期範圍，列名為 'A', 'B', 'C', 'D'\n",
        "df2=df.copy()#建立副本\n",
        "print(df.head())# 輸出 DataFrame 的前 5 行\n",
        "print(df.tail(3))# 輸出 DataFrame 的最後 3 行\n",
        "print(df.index)# 輸出 DataFrame 的索引（日期範圍）\n",
        "print(df.columns)# 輸出 DataFrame 的列名\n",
        "\n",
        "\n"
      ],
      "metadata": {
        "colab": {
          "base_uri": "https://localhost:8080/"
        },
        "id": "60j1Q7LJk21x",
        "outputId": "36d44fd9-46a8-4f0b-e14c-d60f0f1089ff"
      },
      "execution_count": 23,
      "outputs": [
        {
          "output_type": "stream",
          "name": "stdout",
          "text": [
            "DatetimeIndex(['2022-01-01', '2022-01-02', '2022-01-03', '2022-01-04',\n",
            "               '2022-01-05', '2022-01-06'],\n",
            "              dtype='datetime64[ns]', freq='D')\n",
            "                   A         B         C         D\n",
            "2022-01-01 -1.941541  1.229726 -1.738298  2.043936\n",
            "2022-01-02 -1.858838  0.620041  0.340819  1.046915\n",
            "2022-01-03 -1.193208  0.181345  0.642225  0.434327\n",
            "2022-01-04 -0.686446 -0.717905  1.996957 -1.356083\n",
            "2022-01-05  1.084405 -0.232279 -0.733845 -0.151884\n",
            "                   A         B         C         D\n",
            "2022-01-04 -0.686446 -0.717905  1.996957 -1.356083\n",
            "2022-01-05  1.084405 -0.232279 -0.733845 -0.151884\n",
            "2022-01-06 -1.074463 -0.944919 -2.286020 -0.761396\n",
            "DatetimeIndex(['2022-01-01', '2022-01-02', '2022-01-03', '2022-01-04',\n",
            "               '2022-01-05', '2022-01-06'],\n",
            "              dtype='datetime64[ns]', freq='D')\n",
            "Index(['A', 'B', 'C', 'D'], dtype='object')\n"
          ]
        }
      ]
    },
    {
      "cell_type": "code",
      "source": [
        "import numpy as np\n",
        "import pandas as pd\n",
        "df=pd.DataFrame(np.random.randn(6,4),index=dates,columns=list('ABCD'))\n",
        "df.describe()# 使用 describe() 方法生成數據統計摘要\n",
        "a=df.describe()\n",
        "df2=df.copy()\n",
        "print(a)\n",
        "df_transposed=df.T# 轉置 DataFrame\n",
        "print(df_transposed)\n",
        "print(df.sort_index(axis=1,ascending=True))# 按列索引進行排序，升序排列\n",
        "print(df[\"A\"][0:5])# 打印 A 列的前 5 行\n",
        "print(df.loc[dates[0]])# 根據日期獲取第一行數據\n",
        "print(df.loc[:,['A','B']])# 獲取 A 列和 B 列的所有行\n",
        "print(df.loc['20220102':'20220104',['A','B']])# 根據日期範圍獲取 A 列和 B 列的數據\n",
        "print(df.loc[dates[0],'A'])# 獲取 2022 年 1 月 1 日的 A 列數據\n",
        "print(df[0:3])# 獲取前 3 行數據\n",
        "print(df[df>0])# 獲取所有大於 0 的值，其他位置會顯示 NaN\n",
        "print(df[df['A']>0])# 獲取 A 列大於 0 的行\n",
        "\n",
        "df2['E']=['one','one','two','three','four','three']#列 'E'，其值為 'one', 'one', 'two', 'three', 'four', 'three'\n",
        "print(df2[df2['E'].isin(['two','four'])])# 根據 E 列篩選值為 'two' 或 'four' 的行\n",
        "\n",
        "\n"
      ],
      "metadata": {
        "colab": {
          "base_uri": "https://localhost:8080/"
        },
        "id": "UhoNj02Ko8g9",
        "outputId": "6be1582f-76b1-4b56-9bf4-3f549d32d3c1"
      },
      "execution_count": 38,
      "outputs": [
        {
          "output_type": "stream",
          "name": "stdout",
          "text": [
            "              A         B         C         D\n",
            "count  6.000000  6.000000  6.000000  6.000000\n",
            "mean  -0.433030 -0.246091 -0.137755  0.387439\n",
            "std    0.491348  0.673794  0.976033  0.688747\n",
            "min   -1.063590 -1.085540 -1.429942 -0.863739\n",
            "25%   -0.791760 -0.659620 -0.481145  0.349853\n",
            "50%   -0.405165 -0.357956 -0.260408  0.495058\n",
            "75%   -0.095016  0.163169  0.036428  0.627488\n",
            "max    0.187998  0.748206  1.543576  1.225174\n",
            "   2022-01-01  2022-01-02  2022-01-03  2022-01-04  2022-01-05  2022-01-06\n",
            "A   -0.144230   -1.063590    0.187998   -0.666099   -0.833647   -0.078611\n",
            "B   -0.724947   -0.252273   -1.085540   -0.463640    0.748206    0.301650\n",
            "C    0.125199   -0.290931    1.543576   -0.544550   -1.429942   -0.229885\n",
            "D    0.447523    0.655786   -0.863739    0.542593    1.225174    0.317297\n",
            "                   A         B         C         D\n",
            "2022-01-01 -0.144230 -0.724947  0.125199  0.447523\n",
            "2022-01-02 -1.063590 -0.252273 -0.290931  0.655786\n",
            "2022-01-03  0.187998 -1.085540  1.543576 -0.863739\n",
            "2022-01-04 -0.666099 -0.463640 -0.544550  0.542593\n",
            "2022-01-05 -0.833647  0.748206 -1.429942  1.225174\n",
            "2022-01-06 -0.078611  0.301650 -0.229885  0.317297\n",
            "2022-01-01   -0.144230\n",
            "2022-01-02   -1.063590\n",
            "2022-01-03    0.187998\n",
            "2022-01-04   -0.666099\n",
            "2022-01-05   -0.833647\n",
            "Freq: D, Name: A, dtype: float64\n",
            "A   -0.144230\n",
            "B   -0.724947\n",
            "C    0.125199\n",
            "D    0.447523\n",
            "Name: 2022-01-01 00:00:00, dtype: float64\n",
            "                   A         B\n",
            "2022-01-01 -0.144230 -0.724947\n",
            "2022-01-02 -1.063590 -0.252273\n",
            "2022-01-03  0.187998 -1.085540\n",
            "2022-01-04 -0.666099 -0.463640\n",
            "2022-01-05 -0.833647  0.748206\n",
            "2022-01-06 -0.078611  0.301650\n",
            "                   A         B\n",
            "2022-01-02 -1.063590 -0.252273\n",
            "2022-01-03  0.187998 -1.085540\n",
            "2022-01-04 -0.666099 -0.463640\n",
            "-0.14423037694795088\n",
            "                   A         B         C         D\n",
            "2022-01-01 -0.144230 -0.724947  0.125199  0.447523\n",
            "2022-01-02 -1.063590 -0.252273 -0.290931  0.655786\n",
            "2022-01-03  0.187998 -1.085540  1.543576 -0.863739\n",
            "                   A         B         C         D\n",
            "2022-01-01       NaN       NaN  0.125199  0.447523\n",
            "2022-01-02       NaN       NaN       NaN  0.655786\n",
            "2022-01-03  0.187998       NaN  1.543576       NaN\n",
            "2022-01-04       NaN       NaN       NaN  0.542593\n",
            "2022-01-05       NaN  0.748206       NaN  1.225174\n",
            "2022-01-06       NaN  0.301650       NaN  0.317297\n",
            "                   A        B         C         D\n",
            "2022-01-03  0.187998 -1.08554  1.543576 -0.863739\n",
            "                   A         B         C         D     E\n",
            "2022-01-03  0.187998 -1.085540  1.543576 -0.863739   two\n",
            "2022-01-05 -0.833647  0.748206 -1.429942  1.225174  four\n"
          ]
        }
      ]
    }
  ]
}