{
  "nbformat": 4,
  "nbformat_minor": 0,
  "metadata": {
    "colab": {
      "provenance": [],
      "gpuType": "T4"
    },
    "kernelspec": {
      "name": "python3",
      "display_name": "Python 3"
    },
    "language_info": {
      "name": "python"
    },
    "accelerator": "GPU"
  },
  "cells": [
    {
      "cell_type": "code",
      "source": [
        "\n",
        "a=dict(name='Lucky',age=18,eat=['apple','banana'])\n",
        "d=a.get('name')#讀取字典'name'\n",
        "c=a.get('eat',)[0]#讀取字典'eat'裡的第一個字串\n",
        "while True:          #無限循環的迴圈，在輸入的數值不是整數時，讓程式再運行一次，防止崩潰\n",
        "  try:\n",
        "\n",
        "    b=input('輸入年齡:')\n",
        "    b=int(b)\n",
        "    break\n",
        "  except ValueError:\n",
        "    print('再輸入一次')\n",
        "\n",
        "\n",
        "\n",
        "\n",
        "if b<18:             #根據年齡，進行判斷\n",
        "  print('Teenager',end=' ')\n",
        "elif b<=100:\n",
        "  print('Adult',end=' ')\n",
        "else:\n",
        "  print('Not a human',end=' ')\n",
        "\n",
        "\n",
        "print(d,end=' ')\n",
        "print(c)\n",
        "print(type(a))"
      ],
      "metadata": {
        "colab": {
          "base_uri": "https://localhost:8080/"
        },
        "id": "6oh5DmW_fTJR",
        "outputId": "7ba2d34b-fa7b-4aa5-8519-49cfb7031a77"
      },
      "execution_count": 85,
      "outputs": [
        {
          "output_type": "stream",
          "name": "stdout",
          "text": [
            "輸入年齡:7\n",
            "Teenager Lucky apple\n",
            "<class 'dict'>\n"
          ]
        }
      ]
    },
    {
      "cell_type": "code",
      "source": [
        "for a in range(1,10):\n",
        "  for b in range(1,10):\n",
        "    if b!=9:\n",
        "      print('\\t',a**b,end='')#b不等於9時不換行\n",
        "    else:\n",
        "      print('\\t',a**b)\n",
        "\n",
        "\n",
        ""
      ],
      "metadata": {
        "colab": {
          "base_uri": "https://localhost:8080/"
        },
        "id": "UWC8w7TaqYmj",
        "outputId": "626a0f51-2c29-4075-9ced-8ce123fa5c7f"
      },
      "execution_count": 68,
      "outputs": [
        {
          "output_type": "stream",
          "name": "stdout",
          "text": [
            "\t 1\t 1\t 1\t 1\t 1\t 1\t 1\t 1\t 1\n",
            "\t 2\t 4\t 8\t 16\t 32\t 64\t 128\t 256\t 512\n",
            "\t 3\t 9\t 27\t 81\t 243\t 729\t 2187\t 6561\t 19683\n",
            "\t 4\t 16\t 64\t 256\t 1024\t 4096\t 16384\t 65536\t 262144\n",
            "\t 5\t 25\t 125\t 625\t 3125\t 15625\t 78125\t 390625\t 1953125\n",
            "\t 6\t 36\t 216\t 1296\t 7776\t 46656\t 279936\t 1679616\t 10077696\n",
            "\t 7\t 49\t 343\t 2401\t 16807\t 117649\t 823543\t 5764801\t 40353607\n",
            "\t 8\t 64\t 512\t 4096\t 32768\t 262144\t 2097152\t 16777216\t 134217728\n",
            "\t 9\t 81\t 729\t 6561\t 59049\t 531441\t 4782969\t 43046721\t 387420489\n"
          ]
        }
      ]
    },
    {
      "cell_type": "code",
      "execution_count": null,
      "metadata": {
        "colab": {
          "base_uri": "https://localhost:8080/"
        },
        "id": "L9--Kh44Qv1n",
        "outputId": "f406e187-d2a4-42d0-b5e1-80838c5fa1d6"
      },
      "outputs": [
        {
          "output_type": "stream",
          "name": "stdout",
          "text": [
            "a= 2\n",
            "1\n",
            "1\n"
          ]
        }
      ],
      "source": [
        "a=1\n",
        "b=c=a\n",
        "a=2\n",
        "print('a=',a)\n",
        "print(b)\n",
        "print(c)\n"
      ]
    },
    {
      "cell_type": "code",
      "source": [
        "a='''adsad\n",
        "fdsfdsfdsfsad'''#處理長文\n",
        "print(a)"
      ],
      "metadata": {
        "colab": {
          "base_uri": "https://localhost:8080/"
        },
        "id": "TyjDHPYaQxR9",
        "outputId": "a4da99b0-d421-4dbc-9576-a5425b2b9266"
      },
      "execution_count": 28,
      "outputs": [
        {
          "output_type": "stream",
          "name": "stdout",
          "text": [
            "adsad\n",
            "fdsfdsfdsfsad\n"
          ]
        }
      ]
    },
    {
      "cell_type": "code",
      "source": [
        " print('hello word')"
      ],
      "metadata": {
        "colab": {
          "base_uri": "https://localhost:8080/"
        },
        "id": "jAzPvaYjQ88b",
        "outputId": "d553bca5-7017-4abd-fb75-42e25b3bc075"
      },
      "execution_count": null,
      "outputs": [
        {
          "output_type": "stream",
          "name": "stdout",
          "text": [
            "hello word\n"
          ]
        }
      ]
    },
    {
      "cell_type": "code",
      "source": [
        "a='012546adsw8'\n",
        "print(a[10])\n",
        "print(a[:])\n",
        "print(a[:5])\n",
        "print(a[:])\n",
        "print(a[5:10])\n",
        "print(a[4:-3])\n",
        "print(a[:])\n",
        "print(a[:])\n",
        "print(a[:])\n",
        "print(a[2:4:1])"
      ],
      "metadata": {
        "colab": {
          "base_uri": "https://localhost:8080/"
        },
        "id": "Hl6gSoovVZwq",
        "outputId": "602fce05-25ad-4770-87ff-edb8af331089"
      },
      "execution_count": 39,
      "outputs": [
        {
          "output_type": "stream",
          "name": "stdout",
          "text": [
            "8\n",
            "012546adsw8\n",
            "01254\n",
            "012546adsw8\n",
            "6adsw\n",
            "46ad\n",
            "012546adsw8\n",
            "012546adsw8\n",
            "012546adsw8\n",
            "25\n"
          ]
        }
      ]
    },
    {
      "cell_type": "code",
      "source": [
        "a='hello world,i am hi,how are you?'\n",
        "b=a.split(',')\n",
        "c=a.split(' ')\n",
        "print(c)\n",
        "print(b)"
      ],
      "metadata": {
        "colab": {
          "base_uri": "https://localhost:8080/"
        },
        "id": "Y4R0o3lWXdaH",
        "outputId": "70eeb355-98bb-41bf-9619-f89ab6b74a53"
      },
      "execution_count": null,
      "outputs": [
        {
          "output_type": "stream",
          "name": "stdout",
          "text": [
            "['hello', 'world,i', 'am', 'hi,how', 'are', 'you?']\n",
            "['hello world', 'i am hi', 'how are you?']\n"
          ]
        }
      ]
    },
    {
      "cell_type": "code",
      "source": [
        "a=['apple','banana','oramger']\n",
        "b=[1,2,3,4,5]\n",
        "c=['apple',1,2,3,['dog','cat']]\n",
        "d=list('apple')\n",
        "print(a)\n",
        "print(b)\n",
        "print(c)\n",
        "print(d)"
      ],
      "metadata": {
        "colab": {
          "base_uri": "https://localhost:8080/"
        },
        "id": "CE5pc6_xbkMh",
        "outputId": "f05ef945-8978-4e1d-f929-a19f9b703e97"
      },
      "execution_count": null,
      "outputs": [
        {
          "output_type": "stream",
          "name": "stdout",
          "text": [
            "['apple', 'banana', 'oramger']\n",
            "[1, 2, 3, 4, 5]\n",
            "['apple', 1, 2, 3, ['dog', 'cat']]\n",
            "['a', 'p', 'p', 'l', 'e']\n"
          ]
        }
      ]
    },
    {
      "cell_type": "code",
      "source": [
        "t1=('a','b','c','d')\n",
        "t2=('h','k')\n",
        "t=t2+t1\n",
        "print(t)\n"
      ],
      "metadata": {
        "colab": {
          "base_uri": "https://localhost:8080/"
        },
        "id": "KtUtj1Q6dTxy",
        "outputId": "d160edd5-e868-4c86-9e83-b7e837ff7b88"
      },
      "execution_count": null,
      "outputs": [
        {
          "output_type": "stream",
          "name": "stdout",
          "text": [
            "('h', 'k', 'a', 'b', 'c', 'd')\n"
          ]
        }
      ]
    },
    {
      "cell_type": "code",
      "source": [
        "a=2\n",
        "b=3\n",
        "if a<b:\n",
        "  print('a<b')\n",
        "  if a==1:\n",
        "    print('a=1')\n",
        "\n",
        "  elif a==3:\n",
        "    print('a=3')\n",
        "  elif b==3:\n",
        "    print('b=3')\n",
        "  elif a==2:\n",
        "    print('a=2')\n",
        "else:\n",
        "  print('a=b')\n",
        "print('ok')\n"
      ],
      "metadata": {
        "colab": {
          "base_uri": "https://localhost:8080/"
        },
        "id": "EX2g8rUvhXPJ",
        "outputId": "4130bcda-45a7-455e-9de4-aafb7db59f20"
      },
      "execution_count": 51,
      "outputs": [
        {
          "output_type": "stream",
          "name": "stdout",
          "text": [
            "a<b\n",
            "b=3\n",
            "ok\n"
          ]
        }
      ]
    },
    {
      "cell_type": "code",
      "source": [
        "for a in ['x','y','z']:\n",
        "  for b in [1,2,3]:\n",
        "    print(a)\n",
        "    print(b)"
      ],
      "metadata": {
        "colab": {
          "base_uri": "https://localhost:8080/"
        },
        "id": "4W7Y1fhLsNQu",
        "outputId": "301a7eea-a303-48b7-8305-63ef051b4c4c"
      },
      "execution_count": 30,
      "outputs": [
        {
          "output_type": "stream",
          "name": "stdout",
          "text": [
            "x\n",
            "1\n",
            "x\n",
            "2\n",
            "x\n",
            "3\n",
            "y\n",
            "1\n",
            "y\n",
            "2\n",
            "y\n",
            "3\n",
            "z\n",
            "1\n",
            "z\n",
            "2\n",
            "z\n",
            "3\n"
          ]
        }
      ]
    },
    {
      "cell_type": "code",
      "source": [
        "i=[]\n",
        "for t in range(10):\n",
        "  t-=1\n",
        "  i.append(t)\n",
        "print(i)"
      ],
      "metadata": {
        "colab": {
          "base_uri": "https://localhost:8080/"
        },
        "id": "0K3GJj3QtBqL",
        "outputId": "b3d699df-10fd-466d-da47-c80f8da9ac5e"
      },
      "execution_count": null,
      "outputs": [
        {
          "output_type": "stream",
          "name": "stdout",
          "text": [
            "[-1, 0, 1, 2, 3, 4, 5, 6, 7, 8]\n"
          ]
        }
      ]
    },
    {
      "cell_type": "code",
      "source": [
        "\n",
        "\n",
        "try:\n",
        "  a=input('輸入數字:')\n",
        "  print(a+1)\n",
        "except:\n",
        "  print('error')\n",
        "\n",
        "\n"
      ],
      "metadata": {
        "colab": {
          "base_uri": "https://localhost:8080/"
        },
        "id": "oYbu1GAatfSb",
        "outputId": "e137479b-fe53-4435-bc1f-a4564bf6b420"
      },
      "execution_count": 15,
      "outputs": [
        {
          "output_type": "stream",
          "name": "stdout",
          "text": [
            "輸入數字:4\n",
            "error\n"
          ]
        }
      ]
    },
    {
      "cell_type": "code",
      "source": [
        "a = 2\n",
        "b = 3\n",
        "if a>b:\n",
        "    print('a>b')    # 不會印出\n",
        "elif a==b:\n",
        "    print('a=b')    #\n",
        "else:\n",
        "    print('a不等於b')    # 印出\n",
        "print('finish')"
      ],
      "metadata": {
        "colab": {
          "base_uri": "https://localhost:8080/"
        },
        "id": "hEda2cMab6Y_",
        "outputId": "3c3105cd-e55c-4199-e325-6539e01a7895"
      },
      "execution_count": 53,
      "outputs": [
        {
          "output_type": "stream",
          "name": "stdout",
          "text": [
            "a不等於b\n",
            "finish\n"
          ]
        }
      ]
    },
    {
      "cell_type": "code",
      "source": [
        "a = {'name':'oxxo','age':18,'eat':['apple','banana']}\n",
        "print(type(a))    # <class 'dict'>"
      ],
      "metadata": {
        "colab": {
          "base_uri": "https://localhost:8080/"
        },
        "id": "HmkRPemJigl6",
        "outputId": "9ee1bf3b-6ac0-44f4-8ff7-49eaa5876e3d"
      },
      "execution_count": 52,
      "outputs": [
        {
          "output_type": "stream",
          "name": "stdout",
          "text": [
            "<class 'dict'>\n"
          ]
        }
      ]
    }
  ]
}